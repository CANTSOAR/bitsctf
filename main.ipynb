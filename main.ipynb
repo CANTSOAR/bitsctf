{
 "cells": [
  {
   "cell_type": "code",
   "execution_count": 1,
   "metadata": {},
   "outputs": [],
   "source": [
    "import numpy as np\n",
    "import pandas as pd\n",
    "import matplotlib.pyplot as plt\n",
    "import statsmodels.formula.api as smf"
   ]
  },
  {
   "cell_type": "code",
   "execution_count": 2,
   "metadata": {},
   "outputs": [
    {
     "name": "stdout",
     "output_type": "stream",
     "text": [
      "         date     price  bedrooms  grade  has_basement  living_in_m2  \\\n",
      "0  2014-09-26  305000.0         2      1         False      76.18046   \n",
      "1  2014-05-14  498000.0         3      2          True     210.88981   \n",
      "2  2015-03-23  590000.0         2      4         False     262.91549   \n",
      "3  2014-07-15  775000.0         3      3         False     159.79316   \n",
      "4  2015-04-14  350000.0         2      1         False      92.90300   \n",
      "\n",
      "   renovated  nice_view  perfect_condition  real_bathrooms  has_lavatory  \\\n",
      "0      False      False               True               1         False   \n",
      "1      False      False              False               2          True   \n",
      "2      False      False              False               2          True   \n",
      "3      False      False              False               1          True   \n",
      "4      False      False              False               1          True   \n",
      "\n",
      "   single_floor  month  quartile_zone  \n",
      "0          True      9              2  \n",
      "1          True      5              2  \n",
      "2         False      3              2  \n",
      "3         False      7              3  \n",
      "4          True      4              3  \n",
      "93800\n"
     ]
    }
   ],
   "source": [
    "df = pd.read_csv(\"df_test.csv\")\n",
    "print(df.head())\n",
    "print(df.size)\n",
    "\n",
    "df_train = df.iloc[:90000]\n",
    "df_test = df.iloc[90000:]"
   ]
  },
  {
   "cell_type": "code",
   "execution_count": 3,
   "metadata": {},
   "outputs": [
    {
     "name": "stdout",
     "output_type": "stream",
     "text": [
      "                            OLS Regression Results                            \n",
      "==============================================================================\n",
      "Dep. Variable:                  price   R-squared:                       0.372\n",
      "Model:                            OLS   Adj. R-squared:                  0.372\n",
      "Method:                 Least Squares   F-statistic:                     3970.\n",
      "Date:                Tue, 12 Nov 2024   Prob (F-statistic):               0.00\n",
      "Time:                        19:25:24   Log-Likelihood:                -89992.\n",
      "No. Observations:                6700   AIC:                         1.800e+05\n",
      "Df Residuals:                    6698   BIC:                         1.800e+05\n",
      "Df Model:                           1                                         \n",
      "Covariance Type:            nonrobust                                         \n",
      "================================================================================\n",
      "                   coef    std err          t      P>|t|      [0.025      0.975]\n",
      "--------------------------------------------------------------------------------\n",
      "Intercept     1.383e+05   5716.195     24.202      0.000    1.27e+05     1.5e+05\n",
      "living_in_m2  1857.7917     29.485     63.008      0.000    1799.992    1915.592\n",
      "==============================================================================\n",
      "Omnibus:                      365.015   Durbin-Watson:                   2.013\n",
      "Prob(Omnibus):                  0.000   Jarque-Bera (JB):              427.146\n",
      "Skew:                           0.594   Prob(JB):                     1.76e-93\n",
      "Kurtosis:                       3.343   Cond. No.                         550.\n",
      "==============================================================================\n",
      "\n",
      "Notes:\n",
      "[1] Standard Errors assume that the covariance matrix of the errors is correctly specified.\n",
      "Series([], dtype: float64)\n"
     ]
    }
   ],
   "source": [
    "model = smf.ols(\"price ~ living_in_m2\", df_train)\n",
    "result = model.fit()\n",
    "print(result.summary())\n",
    "\n",
    "print(result.predict(df_test[\"living_in_m2\"]))"
   ]
  }
 ],
 "metadata": {
  "kernelspec": {
   "display_name": "base",
   "language": "python",
   "name": "python3"
  },
  "language_info": {
   "codemirror_mode": {
    "name": "ipython",
    "version": 3
   },
   "file_extension": ".py",
   "mimetype": "text/x-python",
   "name": "python",
   "nbconvert_exporter": "python",
   "pygments_lexer": "ipython3",
   "version": "3.9.19"
  }
 },
 "nbformat": 4,
 "nbformat_minor": 2
}
