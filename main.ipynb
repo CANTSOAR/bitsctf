{
 "cells": [
  {
   "cell_type": "code",
   "execution_count": 1,
   "metadata": {},
   "outputs": [],
   "source": [
    "import numpy as np\n",
    "import pandas as pd\n",
    "import matplotlib.pyplot as plt\n",
    "import statsmodels.formula.api as smf"
   ]
  },
  {
   "cell_type": "code",
   "execution_count": 2,
   "metadata": {},
   "outputs": [
    {
     "name": "stdout",
     "output_type": "stream",
     "text": [
      "         date     price  bedrooms  grade  has_basement  living_in_m2  \\\n",
      "0  2014-09-26  305000.0         2      1         False      76.18046   \n",
      "1  2014-05-14  498000.0         3      2          True     210.88981   \n",
      "2  2015-03-23  590000.0         2      4         False     262.91549   \n",
      "3  2014-07-15  775000.0         3      3         False     159.79316   \n",
      "4  2015-04-14  350000.0         2      1         False      92.90300   \n",
      "\n",
      "   renovated  nice_view  perfect_condition  real_bathrooms  has_lavatory  \\\n",
      "0      False      False               True               1         False   \n",
      "1      False      False              False               2          True   \n",
      "2      False      False              False               2          True   \n",
      "3      False      False              False               1          True   \n",
      "4      False      False              False               1          True   \n",
      "\n",
      "   single_floor  month  quartile_zone  \n",
      "0          True      9              2  \n",
      "1          True      5              2  \n",
      "2         False      3              2  \n",
      "3         False      7              3  \n",
      "4          True      4              3  \n",
      "(6700, 14)\n"
     ]
    }
   ],
   "source": [
    "df = pd.read_csv(\"df_test.csv\")\n",
    "print(df.head())\n",
    "print(df.shape)\n",
    "\n",
    "df_train = df.iloc[:6000]\n",
    "df_test = df.iloc[6000:]"
   ]
  },
  {
   "cell_type": "code",
   "execution_count": 4,
   "metadata": {},
   "outputs": [
    {
     "name": "stdout",
     "output_type": "stream",
     "text": [
      "                            OLS Regression Results                            \n",
      "==============================================================================\n",
      "Dep. Variable:                  price   R-squared:                       0.372\n",
      "Model:                            OLS   Adj. R-squared:                  0.372\n",
      "Method:                 Least Squares   F-statistic:                     3561.\n",
      "Date:                Tue, 12 Nov 2024   Prob (F-statistic):               0.00\n",
      "Time:                        19:35:37   Log-Likelihood:                -80605.\n",
      "No. Observations:                6000   AIC:                         1.612e+05\n",
      "Df Residuals:                    5998   BIC:                         1.612e+05\n",
      "Df Model:                           1                                         \n",
      "Covariance Type:            nonrobust                                         \n",
      "================================================================================\n",
      "                   coef    std err          t      P>|t|      [0.025      0.975]\n",
      "--------------------------------------------------------------------------------\n",
      "Intercept     1.373e+05   6046.677     22.709      0.000    1.25e+05    1.49e+05\n",
      "living_in_m2  1863.7089     31.234     59.670      0.000    1802.480    1924.938\n",
      "==============================================================================\n",
      "Omnibus:                      340.573   Durbin-Watson:                   2.006\n",
      "Prob(Omnibus):                  0.000   Jarque-Bera (JB):              401.603\n",
      "Skew:                           0.605   Prob(JB):                     6.21e-88\n",
      "Kurtosis:                       3.378   Cond. No.                         549.\n",
      "==============================================================================\n",
      "\n",
      "Notes:\n",
      "[1] Standard Errors assume that the covariance matrix of the errors is correctly specified.\n",
      "6000    592684.028131\n",
      "6001    566712.406251\n",
      "6002    507843.396655\n",
      "6003    630775.740222\n",
      "6004    535546.459994\n",
      "            ...      \n",
      "6695    488797.540610\n",
      "6696    573638.172085\n",
      "6697    452437.269977\n",
      "6698    426465.648097\n",
      "6699    355476.548291\n",
      "Length: 700, dtype: float64\n"
     ]
    }
   ],
   "source": [
    "model = smf.ols(\"price ~ living_in_m2\", df_train)\n",
    "result = model.fit()\n",
    "print(result.summary())\n",
    "\n",
    "preds = result.predict(df_test)\n",
    "print(preds)"
   ]
  }
 ],
 "metadata": {
  "kernelspec": {
   "display_name": "base",
   "language": "python",
   "name": "python3"
  },
  "language_info": {
   "codemirror_mode": {
    "name": "ipython",
    "version": 3
   },
   "file_extension": ".py",
   "mimetype": "text/x-python",
   "name": "python",
   "nbconvert_exporter": "python",
   "pygments_lexer": "ipython3",
   "version": "3.9.19"
  }
 },
 "nbformat": 4,
 "nbformat_minor": 2
}
